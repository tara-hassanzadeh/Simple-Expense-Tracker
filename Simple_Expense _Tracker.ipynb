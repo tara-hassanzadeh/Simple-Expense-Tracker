{
  "nbformat": 4,
  "nbformat_minor": 0,
  "metadata": {
    "colab": {
      "provenance": [],
      "authorship_tag": "ABX9TyPu3MK0UVmL/gNZiWpfBM6E",
      "include_colab_link": true
    },
    "kernelspec": {
      "name": "python3",
      "display_name": "Python 3"
    },
    "language_info": {
      "name": "python"
    }
  },
  "cells": [
    {
      "cell_type": "markdown",
      "metadata": {
        "id": "view-in-github",
        "colab_type": "text"
      },
      "source": [
        "<a href=\"https://colab.research.google.com/github/tara-hassanzadeh/Simple-Expense-Tracker/blob/main/Simple_Expense%20_Tracker.ipynb\" target=\"_parent\"><img src=\"https://colab.research.google.com/assets/colab-badge.svg\" alt=\"Open In Colab\"/></a>"
      ]
    },
    {
      "cell_type": "markdown",
      "source": [
        "Simple Expense Tracker"
      ],
      "metadata": {
        "id": "q8yUd4pJfU1X"
      }
    },
    {
      "cell_type": "code",
      "execution_count": 1,
      "metadata": {
        "colab": {
          "base_uri": "https://localhost:8080/"
        },
        "id": "GIQIxBxEfQ3M",
        "outputId": "c63f01ae-fed6-4e83-f8dd-9a29430ee013"
      },
      "outputs": [
        {
          "output_type": "stream",
          "name": "stdout",
          "text": [
            "1) add expense\n",
            "2) show expenses\n",
            "3) exit\n",
            "please enter your choice1\n",
            "please enter your amount100\n",
            "please enter your categoryfood\n",
            "Expense added successfully\n",
            "1) add expense\n",
            "2) show expenses\n",
            "3) exit\n",
            "please enter your choice2\n",
            "\n",
            "---Expense List---\n",
            "1. amount:100.0, category:food\n",
            "Total expenses:100.0\n",
            "1) add expense\n",
            "2) show expenses\n",
            "3) exit\n",
            "please enter your choice3\n",
            "exiting the program. Goodbye!\n"
          ]
        }
      ],
      "source": [
        "expenses=[]\n",
        "def add_expense():\n",
        "  amount=float(input(\"please enter your amount\"))\n",
        "  category=input(\"please enter your category\")\n",
        "  expenses.append({\"amount\":amount,\"category\":category})\n",
        "  print(\"Expense added successfully\")\n",
        "def show_expenses():\n",
        "  if not expenses:\n",
        "    print(\"no expenses yet.\\n\")\n",
        "    return\n",
        "  total=0\n",
        "  print(\"\\n---Expense List---\")\n",
        "  for i, e in enumerate(expenses, start=1):\n",
        "    print(f\"{i}. amount:{e['amount']}, category:{e['category']}\")\n",
        "    total+=e['amount']\n",
        "    print(f\"Total expenses:{total}\")\n",
        "while True:\n",
        "  print(\"1) add expense\")\n",
        "  print(\"2) show expenses\")\n",
        "  print(\"3) exit\")\n",
        "  choice=input(\"please enter your choice\")\n",
        "  if choice==\"1\":\n",
        "    add_expense()\n",
        "  elif choice==\"2\":\n",
        "    show_expenses()\n",
        "  elif choice==\"3\":\n",
        "    print(\"exiting the program. Goodbye!\")\n",
        "    break\n",
        "  else:\n",
        "    print(\"invalid choice.please try again\")"
      ]
    }
  ]
}